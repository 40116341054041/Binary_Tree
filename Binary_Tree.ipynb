{
  "nbformat": 4,
  "nbformat_minor": 0,
  "metadata": {
    "colab": {
      "provenance": [],
      "authorship_tag": "ABX9TyMgRn2PxSwmzjvRvvQnGUfF",
      "include_colab_link": true
    },
    "kernelspec": {
      "name": "python3",
      "display_name": "Python 3"
    },
    "language_info": {
      "name": "python"
    }
  },
  "cells": [
    {
      "cell_type": "markdown",
      "metadata": {
        "id": "view-in-github",
        "colab_type": "text"
      },
      "source": [
        "<a href=\"https://colab.research.google.com/github/40116341054041/Binary_Tree/blob/main/Binary_Tree.ipynb\" target=\"_parent\"><img src=\"https://colab.research.google.com/assets/colab-badge.svg\" alt=\"Open In Colab\"/></a>"
      ]
    },
    {
      "cell_type": "code",
      "execution_count": 1,
      "metadata": {
        "id": "25VnoazDm813"
      },
      "outputs": [],
      "source": [
        "class node :\n",
        "  def __init__(self , data):\n",
        "    self.data = data\n",
        "    self.left = None\n",
        "    self.right = None\n",
        "\n",
        "class BTree:\n",
        "  def __init__(self):\n",
        "    self.root = None\n",
        "\n",
        "  def inorder(self , root):\n",
        "    if root==None:\n",
        "      return\n",
        "    else:\n",
        "      self.inorder(root.left)\n",
        "      print(root.data)\n",
        "      self.inorder(root.right)\n",
        "\n",
        "\n",
        "  def postorder(self , root):\n",
        "    if (root == None):\n",
        "        return\n",
        "    else:\n",
        "        self.postorder(root.left)\n",
        "        self.postorder(root.right)\n",
        "        print(root.data)\n",
        "\n",
        "  def preorder(self , root):\n",
        "    if(root == None):\n",
        "        return\n",
        "    else:\n",
        "        print(root.data)\n",
        "        self.preorder(root.left)\n",
        "        self.preorder(root.right)\n"
      ]
    },
    {
      "cell_type": "code",
      "source": [
        "\n"
      ],
      "metadata": {
        "id": "LdjR-BZXnHxd"
      },
      "execution_count": null,
      "outputs": []
    }
  ]
}